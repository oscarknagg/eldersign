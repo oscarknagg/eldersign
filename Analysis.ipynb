{
 "cells": [
  {
   "cell_type": "markdown",
   "id": "choice-penny",
   "metadata": {},
   "source": [
    "# Setup"
   ]
  },
  {
   "cell_type": "code",
   "execution_count": 1,
   "id": "outside-shield",
   "metadata": {},
   "outputs": [],
   "source": [
    "import pandas as pd\n",
    "import numpy as np\n",
    "import os"
   ]
  },
  {
   "cell_type": "code",
   "execution_count": null,
   "id": "casual-bargain",
   "metadata": {},
   "outputs": [],
   "source": [
    "RUN_DIR = 'runs/0/'\n",
    "df = pd.concat([pd.read_parquet(RUN_DIR+f) for f in os.listdir(RUN_DIR)])\n",
    "len(df)"
   ]
  },
  {
   "cell_type": "code",
   "execution_count": null,
   "id": "stone-logan",
   "metadata": {
    "scrolled": true
   },
   "outputs": [],
   "source": [
    "df.sample(3).T"
   ]
  },
  {
   "cell_type": "markdown",
   "id": "narrative-chapter",
   "metadata": {},
   "source": [
    "# Pre-process"
   ]
  },
  {
   "cell_type": "markdown",
   "id": "animal-israeli",
   "metadata": {},
   "source": [
    "### Get item counts"
   ]
  },
  {
   "cell_type": "code",
   "execution_count": null,
   "id": "regional-miracle",
   "metadata": {},
   "outputs": [],
   "source": [
    "item_cols = [col for col in df.columns if 'items' in col]\n",
    "item_cols"
   ]
  },
  {
   "cell_type": "code",
   "execution_count": null,
   "id": "verified-airplane",
   "metadata": {},
   "outputs": [],
   "source": [
    "item_types = df[df['after']][item_cols[0]].dropna().unique()\n",
    "item_types"
   ]
  },
  {
   "cell_type": "code",
   "execution_count": null,
   "id": "plastic-unknown",
   "metadata": {},
   "outputs": [],
   "source": [
    "for i, item_type in enumerate(item_types):\n",
    "    df[item_type]  = (df[item_cols] == item_types[i]).sum(axis=1)"
   ]
  },
  {
   "cell_type": "code",
   "execution_count": null,
   "id": "biological-swedish",
   "metadata": {},
   "outputs": [],
   "source": [
    "df[['attempt_id', 'after']+item_types.tolist()]"
   ]
  },
  {
   "cell_type": "markdown",
   "id": "hairy-reply",
   "metadata": {},
   "source": [
    "### Get trophy value"
   ]
  },
  {
   "cell_type": "code",
   "execution_count": null,
   "id": "destroyed-excess",
   "metadata": {},
   "outputs": [],
   "source": [
    "trophy_cols = [col for col in df.columns if 'trophies' in col]\n",
    "trophy_cols"
   ]
  },
  {
   "cell_type": "code",
   "execution_count": null,
   "id": "fifty-radar",
   "metadata": {},
   "outputs": [],
   "source": [
    "df['trophy_point'] = df[trophy_cols].fillna(0).sum(axis=1)"
   ]
  },
  {
   "cell_type": "code",
   "execution_count": null,
   "id": "indonesian-region",
   "metadata": {},
   "outputs": [],
   "source": [
    "df[['adventure_id', 'after', 'succeeded', 'trophy_point']]"
   ]
  },
  {
   "cell_type": "markdown",
   "id": "developmental-airfare",
   "metadata": {},
   "source": [
    "# Get values"
   ]
  },
  {
   "cell_type": "code",
   "execution_count": null,
   "id": "spanish-mount",
   "metadata": {},
   "outputs": [],
   "source": [
    "import json"
   ]
  },
  {
   "cell_type": "code",
   "execution_count": null,
   "id": "quality-wayne",
   "metadata": {},
   "outputs": [],
   "source": [
    "with open('values.json') as f:\n",
    "    values = json.load(f)\n",
    "    \n",
    "# values = pd.DataFrame(values, index=range(1)).T.reset_index().rename(columns={'index': 'attribute', 0: 'value'})\n",
    "values = pd.DataFrame(values, index=range(1))\n",
    "values.columns = [col + '.value' for col in values.columns]\n",
    "values"
   ]
  },
  {
   "cell_type": "markdown",
   "id": "national-sensitivity",
   "metadata": {},
   "source": [
    "# Calculate values"
   ]
  },
  {
   "cell_type": "code",
   "execution_count": null,
   "id": "confirmed-advantage",
   "metadata": {},
   "outputs": [],
   "source": [
    "df = df.merge(values, how='cross')"
   ]
  },
  {
   "cell_type": "code",
   "execution_count": null,
   "id": "careful-encyclopedia",
   "metadata": {},
   "outputs": [],
   "source": [
    "df['value'] = (\n",
    "    # Victory track\n",
    "    (df['ancient_one.elder_signs'] * df['ancient_one.elder_sign.value'])\n",
    "    + (df['ancient_one.doom_tokens'] * df['ancient_one.doom_token.value'])\n",
    "    # Character stats\n",
    "    + (df['characters[0].health'] * df['character.health.value'])\n",
    "    + (df['characters[0].sanity'] * df['character.sanity.value'])\n",
    "    + (df['characters[0].blessed'] * df['character.blessed.value'])\n",
    "    + (df['characters[0].cursed'] * df['character.cursed.value'])\n",
    "    # Items\n",
    "    + (df['CommonItem'] * df['character.CommonItem.value'])\n",
    "    + (df['UniqueItem'] * df['character.UniqueItem.value'])\n",
    "    + (df['Spell'] * df['character.Spell.value'])\n",
    "    + (df['Ally'] * df['character.Ally.value'])\n",
    "    + (df['Clue'] * df['character.Clue.value'])\n",
    "    + (df['trophy_point'] * df['trophy_point.value'])\n",
    "    # Other\n",
    "    + (df['num_monsters'] * df['monster.value'])\n",
    "    + (df['clock.hour'] * df['clock.turn.value'] / 3)\n",
    ")"
   ]
  },
  {
   "cell_type": "markdown",
   "id": "resistant-crash",
   "metadata": {},
   "source": [
    "### Expected value of success vs failure"
   ]
  },
  {
   "cell_type": "code",
   "execution_count": null,
   "id": "enhanced-chain",
   "metadata": {},
   "outputs": [],
   "source": [
    "adventures = df[df['after']].groupby(['adventure_id', 'scenario.name', 'succeeded'])\\\n",
    "    .agg({'value': 'mean'})\\\n",
    "    .reset_index()\n",
    "\n",
    "adventures = pd.pivot_table(adventures, index=['adventure_id', 'scenario.name'], columns=['succeeded']).reset_index()\n",
    "adventures.columns = ['adventure_id', 'scenario.name', 'failed.value.mean', 'succeeded.value.mean']\n",
    "adventures"
   ]
  },
  {
   "cell_type": "markdown",
   "id": "verified-tooth",
   "metadata": {},
   "source": [
    "### Success probabilities"
   ]
  },
  {
   "cell_type": "code",
   "execution_count": null,
   "id": "matched-fighter",
   "metadata": {},
   "outputs": [],
   "source": [
    "df['count'] = 1\n",
    "success_rates = df[df['after']].groupby(['adventure_id', 'scenario.name'])\\\n",
    "    .agg({'succeeded': 'sum', 'count': 'sum'})\\\n",
    "    .reset_index()\n",
    "\n",
    "success_rates['success_probability'] = success_rates['succeeded'] / success_rates['count']\n",
    "success_rates"
   ]
  },
  {
   "cell_type": "code",
   "execution_count": null,
   "id": "engaging-production",
   "metadata": {},
   "outputs": [],
   "source": [
    "adventures = adventures.merge(success_rates, on=['adventure_id', 'scenario.name'])\n",
    "# adventures"
   ]
  },
  {
   "cell_type": "code",
   "execution_count": null,
   "id": "differential-philip",
   "metadata": {},
   "outputs": [],
   "source": [
    "# This is always the same because the dummy game setup is identitical in each trial\n",
    "baseline_value = df[~df['after']]['value'].unique().item()"
   ]
  },
  {
   "cell_type": "code",
   "execution_count": null,
   "id": "oriented-enclosure",
   "metadata": {},
   "outputs": [],
   "source": [
    "adventures['expected_value'] = (\n",
    "    adventures['success_probability'] * adventures['succeeded.value.mean'] +\n",
    "    (1 - adventures['success_probability']) * adventures['failed.value.mean']\n",
    ")\n",
    "adventures['expected_return'] = adventures['expected_value'] - baseline_value"
   ]
  },
  {
   "cell_type": "code",
   "execution_count": null,
   "id": "aware-player",
   "metadata": {},
   "outputs": [],
   "source": [
    "adventures[['adventure_id', 'scenario.name', 'succeeded.value.mean', 'failed.value.mean', 'success_probability', 'expected_return']]"
   ]
  },
  {
   "cell_type": "code",
   "execution_count": null,
   "id": "expanded-kingdom",
   "metadata": {},
   "outputs": [],
   "source": []
  }
 ],
 "metadata": {
  "kernelspec": {
   "display_name": "elder-sign",
   "language": "python",
   "name": "elder-sign"
  },
  "language_info": {
   "codemirror_mode": {
    "name": "ipython",
    "version": 3
   },
   "file_extension": ".py",
   "mimetype": "text/x-python",
   "name": "python",
   "nbconvert_exporter": "python",
   "pygments_lexer": "ipython3",
   "version": "3.8.6"
  }
 },
 "nbformat": 4,
 "nbformat_minor": 5
}
